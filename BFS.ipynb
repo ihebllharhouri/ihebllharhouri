{
  "nbformat": 4,
  "nbformat_minor": 0,
  "metadata": {
    "colab": {
      "provenance": [],
      "authorship_tag": "ABX9TyMUz+zBBn/8iLF65HQw+blb",
      "include_colab_link": true
    },
    "kernelspec": {
      "name": "python3",
      "display_name": "Python 3"
    },
    "language_info": {
      "name": "python"
    }
  },
  "cells": [
    {
      "cell_type": "markdown",
      "metadata": {
        "id": "view-in-github",
        "colab_type": "text"
      },
      "source": [
        "<a href=\"https://colab.research.google.com/github/ihebllharhouri/ihebllharhouri/blob/main/BFS.ipynb\" target=\"_parent\"><img src=\"https://colab.research.google.com/assets/colab-badge.svg\" alt=\"Open In Colab\"/></a>"
      ]
    },
    {
      "cell_type": "code",
      "execution_count": 1,
      "metadata": {
        "colab": {
          "base_uri": "https://localhost:8080/"
        },
        "id": "9nGJNpJSW41k",
        "outputId": "eb71c815-2cea-460e-9aec-3367145d6631"
      },
      "outputs": [
        {
          "output_type": "stream",
          "name": "stdout",
          "text": [
            "Following is Breadth First Traversal (starting from vertex 2)\n",
            "2 0 3 1 "
          ]
        }
      ],
      "source": [
        "# Python3 Program to print BFS traversal\n",
        "# from a given source vertex. BFS(int s)\n",
        "# traverses vertices reachable from s.\n",
        "\n",
        "from collections import defaultdict\n",
        "\n",
        "\n",
        "# This class represents a directed graph\n",
        "# using adjacency list representation\n",
        "class Graph:\n",
        "\n",
        "    # Constructor\n",
        "    def __init__(self):\n",
        "\n",
        "        # Default dictionary to store graph\n",
        "        self.graph = defaultdict(list)\n",
        "\n",
        "    # Function to add an edge to graph\n",
        "    def addEdge(self, u, v):\n",
        "        self.graph[u].append(v)\n",
        "\n",
        "    # Function to print a BFS of graph\n",
        "    def BFS(self, s):\n",
        "\n",
        "        # Mark all the vertices as not visited\n",
        "        visited = [False] * (max(self.graph) + 1)\n",
        "\n",
        "        # Create a queue for BFS\n",
        "        queue = []\n",
        "\n",
        "        # Mark the source node as\n",
        "        # visited and enqueue it\n",
        "        queue.append(s)\n",
        "        visited[s] = True\n",
        "\n",
        "        while queue:\n",
        "\n",
        "            # Dequeue a vertex from\n",
        "            # queue and print it\n",
        "            s = queue.pop(0)\n",
        "            print(s, end=\" \")\n",
        "\n",
        "            # Get all adjacent vertices of the\n",
        "            # dequeued vertex s.\n",
        "            # If an adjacent has not been visited,\n",
        "            # then mark it visited and enqueue it\n",
        "            for i in self.graph[s]:\n",
        "                if visited[i] == False:\n",
        "                    queue.append(i)\n",
        "                    visited[i] = True\n",
        "\n",
        "\n",
        "# Driver code\n",
        "if __name__ == '__main__':\n",
        "\n",
        "    # Create a graph given in\n",
        "    # the above diagram\n",
        "    g = Graph()\n",
        "    g.addEdge(0, 1)\n",
        "    g.addEdge(0, 2)\n",
        "    g.addEdge(1, 2)\n",
        "    g.addEdge(2, 0)\n",
        "    g.addEdge(2, 3)\n",
        "    g.addEdge(3, 3)\n",
        "\n",
        "    print(\"Following is Breadth First Traversal\"\n",
        "          \" (starting from vertex 2)\")\n",
        "    g.BFS(2)\n",
        "\n",
        "# This code is contributed by Neelam Yadav"
      ]
    }
  ]
}